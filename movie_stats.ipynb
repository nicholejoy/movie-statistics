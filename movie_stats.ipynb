{
 "cells": [
  {
   "cell_type": "code",
   "execution_count": 86,
   "id": "64b74f9d",
   "metadata": {},
   "outputs": [
    {
     "name": "stdout",
     "output_type": "stream",
     "text": [
      "Requirement already satisfied: psycopg2-binary in /opt/conda/lib/python3.9/site-packages (2.9.1)\n",
      "Note: you may need to restart the kernel to use updated packages.\n"
     ]
    }
   ],
   "source": [
    "pip install psycopg2-binary"
   ]
  },
  {
   "cell_type": "code",
   "execution_count": null,
   "id": "12996698",
   "metadata": {},
   "outputs": [],
   "source": [
    "pip install pandas"
   ]
  },
  {
   "cell_type": "code",
   "execution_count": 95,
   "id": "f0069284",
   "metadata": {},
   "outputs": [],
   "source": [
    "import psycopg2\n",
    "import pandas as pd"
   ]
  },
  {
   "cell_type": "code",
   "execution_count": 96,
   "id": "3a22e7f2",
   "metadata": {},
   "outputs": [],
   "source": [
    "conn = psycopg2.connect(\"host=postgres_db dbname=movies user=admin password=system4231\")"
   ]
  },
  {
   "cell_type": "code",
   "execution_count": 97,
   "id": "fd7fbc28",
   "metadata": {},
   "outputs": [],
   "source": [
    "def return_query_result(connection, query):\n",
    "    cursor = connection.cursor()\n",
    "    cursor.execute(query)\n",
    "    records = cursor.fetchall()\n",
    "    cursor.close()\n",
    "    return pd.DataFrame(list(records))"
   ]
  },
  {
   "cell_type": "code",
   "execution_count": 98,
   "id": "4c5d55b9",
   "metadata": {},
   "outputs": [
    {
     "name": "stdout",
     "output_type": "stream",
     "text": [
      "      0\n",
      "0  9742\n"
     ]
    }
   ],
   "source": [
    "total_movies_query = \"SELECT COUNT(movie_id) FROM movies\"\n",
    "print(return_query_result(conn, total_movies_query))"
   ]
  },
  {
   "cell_type": "code",
   "execution_count": 99,
   "id": "94ca11e9",
   "metadata": {},
   "outputs": [
    {
     "name": "stdout",
     "output_type": "stream",
     "text": [
      "       0     1\n",
      "0  Drama  4361\n"
     ]
    }
   ],
   "source": [
    "popular_genre_query = \"SELECT genre, count(*) as total FROM movie_genres GROUP BY genre ORDER BY total DESC LIMIT 1;\"\n",
    "print(return_query_result(conn, popular_genre_query))"
   ]
  },
  {
   "cell_type": "code",
   "execution_count": 100,
   "id": "7de755df",
   "metadata": {},
   "outputs": [
    {
     "name": "stdout",
     "output_type": "stream",
     "text": [
      "                                                   0         1\n",
      "0                          Shawshank Redemption, The  4.429022\n",
      "1                                 Lawrence of Arabia  4.300000\n",
      "2                                     Godfather, The  4.289062\n",
      "3                                         Fight Club  4.272936\n",
      "4                                     Cool Hand Luke  4.271930\n",
      "5  Dr. Strangelove or: How I Learned to Stop Worr...  4.268041\n",
      "6                                        Rear Window  4.261905\n",
      "7                            Godfather: Part II, The  4.259690\n",
      "8                                      Departed, The  4.252336\n",
      "9                                         Goodfellas  4.250000\n"
     ]
    }
   ],
   "source": [
    "#It doesn't make sense to lo\"ok at movies rating only once\n",
    "hi_rated_movies_query = \"Select movie_title, AVG(rating) as avg_rating FROM movie_ratings LEFT JOIN movies on movie_ratings.movie_id = movies.movie_id GROUP BY movie_title HAVING count(rating) > 30 ORDER BY avg_rating DESC LIMIT 10;\"\n",
    "print(return_query_result(conn, hi_rated_movies_query))"
   ]
  },
  {
   "cell_type": "code",
   "execution_count": 101,
   "id": "c2bb35b2",
   "metadata": {},
   "outputs": [
    {
     "name": "stdout",
     "output_type": "stream",
     "text": [
      "     0     1\n",
      "0  414  2698\n",
      "1  599  2478\n",
      "2  474  2108\n",
      "3  448  1864\n",
      "4  274  1346\n"
     ]
    }
   ],
   "source": [
    "active_users_query = \"Select user_id, count(*) as total FROM movie_ratings GROUP BY user_id ORDER BY total DESC LIMIT 5;\"\n",
    "print(return_query_result(conn, active_users_query))"
   ]
  },
  {
   "cell_type": "code",
   "execution_count": 102,
   "id": "bd3f2223",
   "metadata": {},
   "outputs": [
    {
     "name": "stdout",
     "output_type": "stream",
     "text": [
      "                                                    0                   1\n",
      "0                                             Copycat 1996-03-29 18:36:55\n",
      "1                                           Apollo 13 1996-03-29 18:36:55\n",
      "2                                        Crimson Tide 1996-03-29 18:36:55\n",
      "3                          Die Hard: With a Vengeance 1996-03-29 18:36:55\n",
      "4                                    Boys on the Side 1996-03-29 18:36:55\n",
      "5                                   Circle of Friends 1996-03-29 18:36:55\n",
      "6                                          Disclosure 1996-03-29 18:36:55\n",
      "7                                           Drop Zone 1996-03-29 18:36:55\n",
      "8                              Baby-Sitters Club, The 1996-03-29 18:36:55\n",
      "9                            Clear and Present Danger 1996-03-29 18:36:55\n",
      "10                                   Corrina, Corrina 1996-03-29 18:36:55\n",
      "11                              Beverly Hills Cop III 1996-03-29 18:36:55\n",
      "12                                       Black Beauty 1996-03-29 18:36:55\n",
      "13       City Slickers II: The Legend of Curly's Gold 1996-03-29 18:36:55\n",
      "14                                        Cliffhanger 1996-03-29 18:36:55\n",
      "15  Englishman Who Went Up a Hill But Came Down a ... 1996-03-29 18:36:55\n",
      "16                                            Aladdin 1996-03-29 18:36:55\n",
      "17                                 Dances with Wolves 1996-03-29 18:36:55\n",
      "18                                             Batman 1996-03-29 18:36:55\n",
      "19                               Beauty and the Beast 1996-03-29 18:36:55\n"
     ]
    }
   ],
   "source": [
    "first_rated_query = \"SELECT movie_title, date FROM movie_ratings LEFT JOIN movies on movie_ratings.movie_id = movies.movie_id WHERE date = (Select min(date) from movie_ratings);\"\n",
    "print(return_query_result(conn, first_rated_query))"
   ]
  },
  {
   "cell_type": "code",
   "execution_count": 103,
   "id": "6604b7a2",
   "metadata": {},
   "outputs": [
    {
     "name": "stdout",
     "output_type": "stream",
     "text": [
      "       0                   1\n",
      "0  Crumb 2018-09-24 14:27:30\n"
     ]
    }
   ],
   "source": [
    "first_rated_query = \"SELECT movie_title, date FROM movie_ratings LEFT JOIN movies on movie_ratings.movie_id = movies.movie_id WHERE date = (Select max(date) from movie_ratings);\"\n",
    "print(return_query_result(conn, first_rated_query))"
   ]
  },
  {
   "cell_type": "code",
   "execution_count": 80,
   "id": "8a8e3b4b",
   "metadata": {},
   "outputs": [
    {
     "name": "stdout",
     "output_type": "stream",
     "text": [
      "[(586, 'Home Alone', 1990), (587, 'Ghost', 1990), (590, 'Dances with Wolves', 1990), (597, 'Pretty Woman', 1990), (1100, 'Days of Thunder', 1990), (1179, 'Grifters, The', 1990), (1190, 'Tie Me Up! Tie Me Down!', 1990), (1192, 'Paris Is Burning', 1990), (1213, 'Goodfellas', 1990), (1236, 'Trust', 1990), (1243, 'Rosencrantz and Guildenstern Are Dead', 1990), (1245, \"Miller's Crossing\", 1990), (1249, 'Femme Nikita, La', 1990), (1268, 'Pump Up the Volume', 1990), (1277, 'Cyrano de Bergerac', 1990), (1328, 'Amityville Curse, The', 1990), (1370, 'Die Hard 2', 1990), (1379, 'Young Guns II', 1990), (1382, 'Marked for Death', 1990), (1610, 'Hunt for Red October, The', 1990), (1785, 'King of New York', 1990), (1966, 'Metropolitan', 1990), (1992, \"Child's Play 2\", 1990), (1999, 'Exorcist III, The', 1990), (2004, 'Gremlins 2: The New Batch', 1990), (2012, 'Back to the Future Part III', 1990), (2023, 'Godfather: Part III, The', 1990), (2089, 'Rescuers Down Under, The', 1990), (2162, 'NeverEnding Story II: The Next Chapter, The', 1990), (2249, 'My Blue Heaven', 1990), (2283, 'Sheltering Sky, The', 1990), (2291, 'Edward Scissorhands', 1990), (2327, 'Tales from the Darkside: The Movie', 1990), (2350, 'Heart Condition', 1990), (2412, 'Rocky V', 1990), (2616, 'Dick Tracy', 1990), (2699, 'Arachnophobia', 1990), (2798, 'Problem Child', 1990), (2916, 'Total Recall', 1990), (2982, 'Guardian, The', 1990), (2986, 'RoboCop 2', 1990), (3013, 'Bride of Re-Animator', 1990), (3031, 'Repossessed', 1990), (3103, 'Stanley & Iris', 1990), (3105, 'Awakenings', 1990), (3106, 'Come See the Paradise', 1990), (3130, 'Bonfire of the Vanities', 1990), (3141, 'Two Jakes, The', 1990), (3219, 'Pacific Heights', 1990), (3425, \"Mo' Better Blues\", 1990), (3438, 'Teenage Mutant Ninja Turtles', 1990), (3476, \"Jacob's Ladder\", 1990), (3499, 'Misery', 1990), (3531, 'All the Vermeers in New York', 1990), (3686, 'Flatliners', 1990), (3697, 'Predator 2', 1990), (3705, 'Bird on a Wire', 1990), (3713, 'Long Walk Home, The', 1990), (3723, 'Hamlet', 1990), (3765, 'Hot Spot, The', 1990), (3773, 'House Party', 1990), (3841, 'Air America', 1990), (3940, 'Slumber Party Massacre III', 1990), (3942, 'Sorority House Massacre II', 1990), (4174, 'Avalon', 1990), (4205, 'Mermaids', 1990), (4207, 'Navy Seals', 1990), (4211, 'Reversal of Fortune', 1990), (4392, 'Alice', 1990), (4951, 'Lord of the Flies', 1990), (5027, 'Another 48 Hrs.', 1990), (5033, 'Russia House, The', 1990), (5303, 'Joe Versus the Volcano', 1990), (5307, 'Taking Care of Business', 1990), (5309, 'Three Men and a Little Lady', 1990), (5334, 'Cadillac Man', 1990), (5346, 'Wild Orchid', 1990), (5358, 'Mountains of the Moon', 1990), (5438, 'Men at Work', 1990), (5581, \"Betsy's Wedding\", 1990), (5584, 'Ernest Goes to Jail', 1990), (5596, 'Spaced Invaders', 1990), (5657, 'Flashback', 1990), (5839, \"My Father's Glory\", 1990), (5840, \"My Mother's Castle\", 1990), (5961, 'Blue Steel', 1990), (5968, 'Miami Blues', 1990), (6235, 'Europa Europa', 1990), (6238, 'Green Card', 1990), (6270, \"Akira Kurosawa's Dreams\", 1990), (6313, 'Sibling Rivalry', 1990), (6560, 'Loose Cannons', 1990), (6614, 'I Love You to Death', 1990), (6659, 'Tremors', 1990), (6671, 'Angel at My Table, An', 1990), (6678, \"Handmaid's Tale, The\", 1990), (6812, 'Rookie, The', 1990), (6817, 'White Hunter, Black Heart', 1990), (6966, 'Darkman', 1990), (6974, 'Freshman, The', 1990), (7004, 'Kindergarten Cop', 1990), (7012, 'Mr. Destiny', 1990), (7018, 'Presumed Innocent', 1990), (7028, 'Quick Change', 1990), (7032, 'Revenge', 1990), (7044, 'Wild at Heart', 1990), (7045, 'Witches, The', 1990), (7103, 'Madhouse', 1990), (7193, 'Adventures of Ford Fairlane, The', 1990), (7487, 'Henry & June', 1990), (7701, \"Look Who's Talking Too\", 1990), (7781, 'Twister', 1990), (7951, 'Nightbreed', 1990), (7986, 'Robot Jox', 1990), (8092, 'Frankenstein Unbound', 1990), (8118, 'Delta Force 2', 1990), (8225, 'Night of the Living Dead', 1990), (8270, \"Hairdresser's Husband, The\", 1990), (8402, 'Book of Love', 1990), (8493, 'Memphis Belle', 1990), (26676, 'Almost an Angel', 1990), (26680, 'Cry-Baby', 1990), (26681, 'Bullet in the Head', 1990), (26686, 'Ghost Dad', 1990), (26693, 'It', 1990), (26694, 'Ju Dou', 1990), (26695, 'Krays, The', 1990), (26696, 'Lionheart', 1990), (26700, 'Nuns on the Run', 1990), (26704, 'State of Grace', 1990), (26713, 'Days of Being Wild', 1990), (26717, 'Begotten', 1990), (26750, 'Quigley Down Under', 1990), (26764, 'Captain America', 1990), (34292, 'Hardware', 1990), (40491, 'Match Factory Girl, The', 1990), (57499, 'Heaven and Earth', 1990), (70946, 'Troll 2', 1990), (93040, 'Civil War, The', 1990), (93208, \"Mickey's The Prince and the Pauper\", 1990), (95165, \"Dragon Ball Z the Movie: The World's Strongest\", 1990), (95182, 'Dragon Ball Z the Movie: The Tree of Might', 1990), (95965, 'Dragon Ball Z: Bardock - The Father of Goku', 1990), (99122, 'I Bought a Vampire Motorcycle', 1990), (100906, 'Maniac Cop 2', 1990), (116941, 'Jetsons: The Movie', 1990), (161008, 'The Forbidden Dance', 1990)]\n"
     ]
    }
   ],
   "source": [
    "movies_1990_query = \"SELECT * from movies where release_year = 1990\"\n",
    "print(return_query_result(conn, movies_1990_query))"
   ]
  },
  {
   "cell_type": "code",
   "execution_count": null,
   "id": "e63345b3",
   "metadata": {},
   "outputs": [],
   "source": []
  }
 ],
 "metadata": {
  "kernelspec": {
   "display_name": "Python 3 (ipykernel)",
   "language": "python",
   "name": "python3"
  },
  "language_info": {
   "codemirror_mode": {
    "name": "ipython",
    "version": 3
   },
   "file_extension": ".py",
   "mimetype": "text/x-python",
   "name": "python",
   "nbconvert_exporter": "python",
   "pygments_lexer": "ipython3",
   "version": "3.9.7"
  }
 },
 "nbformat": 4,
 "nbformat_minor": 5
}
